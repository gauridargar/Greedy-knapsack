{
 "cells": [
  {
   "cell_type": "code",
   "execution_count": null,
   "metadata": {},
   "outputs": [],
   "source": [
    "def lcs(pattern_1, pattern_2, len_1, len_2):\n",
    "    if len_1 == 0 or len_2 == 0:\n",
    "    return 0\n",
    "if pattern_1[len_1 - 1] == pattern_2[len_2 - 1]:\n",
    "    return 1 + lcs(pattern_1, pattern_2, len_1 - 1, len_2 - 1)\n",
    "else :\n",
    "    return max(lcs(pattern_1, pattern_2, len_1 - 1, len_2), lcs(pattern_1, pattern_2, len_1, len_2 - 1))\n",
    "pattern_1 = \"RGBGARGA\"\n",
    "pattern_2 = \"BGRARG\"\n",
    "print(\"Lenght of LCS is: \", lcs(pattern_1, pattern_2, len(pattern_1), len(pattern_2)))"
   ]
  },
  {
   "cell_type": "code",
   "execution_count": null,
   "metadata": {},
   "outputs": [],
   "source": []
  }
 ],
 "metadata": {
  "interpreter": {
   "hash": "f7be44ff6d022abcdd56ca5d84b9c7c57bcc1116775f704a69faf25b23490917"
  },
  "kernelspec": {
   "display_name": "Python 3.8.8 ('ai')",
   "language": "python",
   "name": "python3"
  },
  "language_info": {
   "name": "python",
   "version": "3.8.8"
  },
  "orig_nbformat": 4
 },
 "nbformat": 4,
 "nbformat_minor": 2
}
